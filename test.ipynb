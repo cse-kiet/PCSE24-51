{
 "cells": [
  {
   "cell_type": "code",
   "execution_count": 3,
   "metadata": {},
   "outputs": [],
   "source": [
    "import tkinter as tk\n",
    "\n",
    "# Create the main window\n",
    "window = tk.Tk()\n",
    "\n",
    "# Get the screen width and height\n",
    "screen_width = window.winfo_screenwidth()\n",
    "screen_height = window.winfo_screenheight()\n",
    "\n",
    "# Set the window size to full screen\n",
    "window.geometry(f\"{screen_width}x{screen_height}\")\n",
    "\n",
    "# Create the heading rectangle frame\n",
    "heading_frame = tk.Frame(window, bg=\"gray\", width=screen_width, height=100)\n",
    "heading_frame.place(x=0, y=0)\n",
    "\n",
    "\n",
    "# Create the first section frame\n",
    "frame1 = tk.Frame(window, bg=\"red\", width=(screen_width*2)/3, height=(screen_height*2)/3)\n",
    "frame1.place(x=0, y=100)\n",
    "\n",
    "# Create the second section frame\n",
    "frame2 = tk.Frame(window, bg=\"blue\", width=screen_width/3,height=(screen_height*2)/3)\n",
    "frame2.place(x=(screen_width*2)//3, y=100)\n",
    "\n",
    "# Create the third section frame\n",
    "frame3 = tk.Frame(window, bg=\"green\", width=(screen_width*2)/3, height=screen_height//3)\n",
    "frame3.place(x=0, y=100 + (screen_height*2)/3)\n",
    "\n",
    "# Create the fourth section frame\n",
    "frame4 = tk.Frame(window, bg=\"yellow\", width=screen_width //3, height=screen_height//3)\n",
    "frame4.place(x=(screen_width*2)/3, y=100 + (screen_height*2)/3)\n",
    "\n",
    "# Start the Tkinter event loop\n",
    "window.mainloop()\n"
   ]
  }
 ],
 "metadata": {
  "kernelspec": {
   "display_name": "Python 3.10.5 64-bit",
   "language": "python",
   "name": "python3"
  },
  "language_info": {
   "codemirror_mode": {
    "name": "ipython",
    "version": 3
   },
   "file_extension": ".py",
   "mimetype": "text/x-python",
   "name": "python",
   "nbconvert_exporter": "python",
   "pygments_lexer": "ipython3",
   "version": "3.10.5"
  },
  "orig_nbformat": 4,
  "vscode": {
   "interpreter": {
    "hash": "1faf759d177765deb55ee80ab4abb1efe18815b38afeaebc22989555973fc7cb"
   }
  }
 },
 "nbformat": 4,
 "nbformat_minor": 2
}
