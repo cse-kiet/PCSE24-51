{
 "cells": [
  {
   "cell_type": "code",
   "execution_count": null,
   "metadata": {},
   "outputs": [],
   "source": [
    "import sqlite3"
   ]
  },
  {
   "cell_type": "code",
   "execution_count": null,
   "metadata": {},
   "outputs": [],
   "source": [
    "def create_database():\n",
    "    # Create a connection to the database (or create it if it doesn't exist)\n",
    "    conn = sqlite3.connect('gymers.db')\n",
    "\n",
    "    # Create a cursor object to execute SQL commands\n",
    "    cursor = conn.cursor()\n",
    "\n",
    "    # Create the \"gymers\" table\n",
    "    cursor.execute('''\n",
    "        CREATE TABLE IF NOT EXISTS gymers (\n",
    "            account_no INTEGER PRIMARY KEY,\n",
    "            first_name TEXT,\n",
    "            last_name TEXT,\n",
    "            dob DATE,\n",
    "            gender TEXT,\n",
    "            height REAL,\n",
    "            weight REAL,\n",
    "            exercise_name TEXT,\n",
    "            high_score INTEGER\n",
    "        )\n",
    "        ''')\n",
    "\n",
    "    # Commit the changes and close the connection\n",
    "    conn.commit()\n",
    "    conn.close()\n"
   ]
  },
  {
   "cell_type": "code",
   "execution_count": 1,
   "metadata": {},
   "outputs": [],
   "source": [
    "def insert_data():    \n",
    "    # Create a connection to the database\n",
    "    conn = sqlite3.connect('gymers.db')\n",
    "\n",
    "    # Create a cursor object to execute SQL commands\n",
    "    cursor = conn.cursor()\n",
    "\n",
    "    # Insert sample data into the \"gymers\" table\n",
    "    cursor.execute(\"INSERT INTO gymers (account_no, first_name, last_name, dob, gender, height, weight, exercise_name, high_score) VALUES (1, 'John', 'Doe', '1990-05-10', 'Male', 180, 75, 'Push-ups', 100)\")\n",
    "    cursor.execute(\"INSERT INTO gymers (account_no, first_name, last_name, dob, gender, height, weight, exercise_name, high_score) VALUES (2, 'Jane', 'Smith', '1985-12-15', 'Female', 165, 62, 'Squats', 150)\")\n",
    "    cursor.execute(\"INSERT INTO gymers (account_no, first_name, last_name, dob, gender, height, weight, exercise_name, high_score) VALUES (3, 'Michael', 'Johnson', '1992-07-20', 'Male', 175, 80, 'Deadlifts', 200)\")\n",
    "\n",
    "    cursor.execute(\"INSERT INTO gymers (account_no, first_name, last_name, dob, gender, height, weight, exercise_name, high_score) VALUES (4, 'Johna', 'Doea', '1990-05-10', 'Male', 180, 75, 'Push-ups', 120)\")\n",
    "    cursor.execute(\"INSERT INTO gymers (account_no, first_name, last_name, dob, gender, height, weight, exercise_name, high_score) VALUES (5, 'Janea', 'Smitha', '1985-12-15', 'Female', 165, 62, 'Squats', 130)\")\n",
    "    cursor.execute(\"INSERT INTO gymers (account_no, first_name, last_name, dob, gender, height, weight, exercise_name, high_score) VALUES (6, 'Michaela', 'Johnsona', '1992-07-20', 'Male', 175, 80, 'Deadlifts', 190)\")\n",
    "\n",
    "    cursor.execute(\"INSERT INTO gymers (account_no, first_name, last_name, dob, gender, height, weight, exercise_name, high_score) VALUES (7, 'Johnb', 'Doeb', '1990-05-10', 'Male', 180, 75, 'Push-ups', 130)\")\n",
    "    cursor.execute(\"INSERT INTO gymers (account_no, first_name, last_name, dob, gender, height, weight, exercise_name, high_score) VALUES (8, 'Jane', 'Smith', '1985-12-15', 'Female', 165, 62, 'Squats', 170)\")\n",
    "    cursor.execute(\"INSERT INTO gymers (account_no, first_name, last_name, dob, gender, height, weight, exercise_name, high_score) VALUES (9, 'Michael', 'Johnson', '1992-07-20', 'Male', 175, 80, 'Deadlifts', 210)\")\n",
    "\n",
    "\n",
    "    # Commit the changes\n",
    "    conn.commit()\n",
    "\n",
    "    # Retrieve and print the data from the \"gymers\" table\n",
    "    cursor.execute(\"SELECT * FROM gymers\")\n",
    "    data = cursor.fetchall()\n",
    "    for row in data:\n",
    "        print(row)\n",
    "\n",
    "    # Close the connection\n",
    "    conn.close()\n"
   ]
  },
  {
   "cell_type": "code",
   "execution_count": null,
   "metadata": {},
   "outputs": [],
   "source": [
    "conn = sqlite3.connect('gymers.db')\n",
    "\n",
    "\n",
    "def insert_new(account_no, first_name, last_name, dob, gender, height, weight, exercise_name, high_score):\n",
    "    # Create a cursor object to execute SQL commands\n",
    "    cursor = conn.cursor()\n",
    "\n",
    "    # Check if the person already exists in the database\n",
    "    cursor.execute(\n",
    "        \"SELECT high_score FROM gymers WHERE account_no = ?\", (account_no,))\n",
    "    previous_score = cursor.fetchone()\n",
    "\n",
    "    # Insert the values if the person doesn't exist or if the previous score is lower\n",
    "    if previous_score is None or high_score > previous_score[0]:\n",
    "        cursor.execute(\"INSERT OR REPLACE INTO gymers (account_no, first_name, last_name, dob, gender, height, weight, exercise_name, high_score) VALUES (?, ?, ?, ?, ?, ?, ?, ?, ?)\",\n",
    "                       (account_no, first_name, last_name, dob, gender, height, weight, exercise_name, high_score))\n",
    "        print(\"Data inserted successfully.\")\n",
    "    else:\n",
    "        print(\"Previous score is higher. Skipping insertion.\")\n",
    "\n",
    "    # Commit the changes\n",
    "    conn.commit()\n",
    "\n",
    "\n",
    "# Example usage\n",
    "insert_new(10, 'John', 'Doe', '1990-05-10', 'Male', 180, 75, 'Push-ups', 120)\n",
    "insert_new(11, 'Jane', 'Smith', '1985-12-15', 'Female', 165, 62, 'Squats', 180)\n",
    "insert_new(12, 'Michael', 'Johnson', '1992-07-20',\n",
    "           'Male', 175, 80, 'Deadlifts', 190)\n",
    "\n",
    "# Close the connection\n",
    "conn.close()\n"
   ]
  },
  {
   "cell_type": "code",
   "execution_count": null,
   "metadata": {},
   "outputs": [],
   "source": []
  },
  {
   "cell_type": "code",
   "execution_count": null,
   "metadata": {},
   "outputs": [],
   "source": [
    "def get_high_scores(): \n",
    "    # Create a connection to the database\n",
    "    conn = sqlite3.connect('gymers.db')\n",
    "\n",
    "    # Create a cursor object to execute SQL commands\n",
    "    cursor = conn.cursor()\n",
    "\n",
    "    # Retrieve the top 2 scores for each exercise category\n",
    "    cursor.execute('''\n",
    "        SELECT exercise_name, first_name, last_name, high_score\n",
    "        FROM gymers\n",
    "        WHERE account_no IN (\n",
    "            SELECT account_no\n",
    "            FROM gymers AS g2\n",
    "            WHERE g2.exercise_name = gymers.exercise_name\n",
    "            ORDER BY high_score DESC\n",
    "            LIMIT 1\n",
    "        )\n",
    "        ORDER BY exercise_name, high_score DESC\n",
    "    ''')\n",
    "\n",
    "    # Fetch all the rows returned by the query\n",
    "    data = cursor.fetchall()\n",
    "    print(data)\n",
    "    # Close the connection\n",
    "    conn.close()\n"
   ]
  },
  {
   "cell_type": "code",
   "execution_count": null,
   "metadata": {},
   "outputs": [],
   "source": [
    "get_high_scores()"
   ]
  }
 ],
 "metadata": {
  "kernelspec": {
   "display_name": "Python 3.10.5 64-bit",
   "language": "python",
   "name": "python3"
  },
  "language_info": {
   "codemirror_mode": {
    "name": "ipython",
    "version": 3
   },
   "file_extension": ".py",
   "mimetype": "text/x-python",
   "name": "python",
   "nbconvert_exporter": "python",
   "pygments_lexer": "ipython3",
   "version": "3.10.5"
  },
  "orig_nbformat": 4,
  "vscode": {
   "interpreter": {
    "hash": "1faf759d177765deb55ee80ab4abb1efe18815b38afeaebc22989555973fc7cb"
   }
  }
 },
 "nbformat": 4,
 "nbformat_minor": 2
}
